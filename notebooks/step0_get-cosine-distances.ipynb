{
 "cells": [
  {
   "cell_type": "markdown",
   "id": "08dafd87",
   "metadata": {},
   "source": [
    "## Language Model Representations of Ambiguous (Spanish) Nouns in Context\n",
    "\n",
    "Here, we load a monolingual Spanish-trained large language model (LLM) called [BETO](https://huggingface.co/dccuchile/bert-base-spanish-wwm-cased), and we use it to compute vector representations for target ambiguous Spanish nouns. To do so, we also load a dataframe of sentence pairs in Spanish, where each pair contains a target ambiguous noun whose sense is disambiguated by either an adjective or a verb (termed context cue). This context cue marks the only difference across a given pair of sentences. Context cues have been chosen such that sometimes the sentence pair evokes the same sense for the target word, **or** evokes different (homonymous or polysemous) senses for the target word. \n",
    "\n",
    "We run each (tokenized version of each) sentence through BETO, and extract the vector representation, or embedding, for the target noun from each of BETO's layers. We then compute and store the cosine distances between the target word embeddings from the first and second sentences of the pair. "
   ]
  },
  {
   "cell_type": "code",
   "execution_count": 1,
   "id": "66550e1e",
   "metadata": {},
   "outputs": [
    {
     "name": "stdout",
     "output_type": "stream",
     "text": [
      "Once deleted, variables cannot be recovered. Proceed (y/[n])? \n",
      "Nothing done.\n"
     ]
    }
   ],
   "source": [
    "%reset\n",
    "%matplotlib inline\n",
    "%config InlineBackend.figure_format = 'retina'  # makes figs nicer!\n",
    "\n",
    "import functools\n",
    "import itertools\n",
    "import os\n",
    "import torch\n",
    "import transformers\n",
    "\n",
    "import numpy as np\n",
    "import pandas as pd\n",
    "import matplotlib.pyplot as plt\n",
    "import seaborn as sns\n",
    "\n",
    "\n",
    "from scipy.spatial.distance import cosine\n",
    "from tqdm.notebook import tqdm\n",
    "from transformers import AutoTokenizer\n",
    "\n",
    "\n",
    "sns.set(style='whitegrid',font_scale=1.2)"
   ]
  },
  {
   "cell_type": "markdown",
   "id": "c6fc552e",
   "metadata": {},
   "source": [
    "### define useful custom functions"
   ]
  },
  {
   "cell_type": "code",
   "execution_count": 2,
   "id": "045d2aeb",
   "metadata": {},
   "outputs": [],
   "source": [
    "### Define useful custom functions to ...\n",
    "\n",
    "### ... find the target tokens within tokenized sequence\n",
    "def find_sublist_index(mylist, sublist):\n",
    "    \"\"\"Find the first occurence of sublist in list.\n",
    "    Return the start and end indices of sublist in list\"\"\"\n",
    "\n",
    "    for i in range(len(mylist)):\n",
    "        if mylist[i] == sublist[0] and mylist[i:i+len(sublist)] == sublist:\n",
    "            return i, i+len(sublist)\n",
    "    return None\n",
    "\n",
    "@functools.lru_cache(maxsize=None)  # This will cache results, handy later...\n",
    "\n",
    "\n",
    "### ... grab the embeddings for your target tokens\n",
    "def get_embedding(model, tokenizer, sentence, target, layer, device):\n",
    "    \"\"\"Get a token embedding for target in sentence\"\"\"\n",
    "    \n",
    "    # Tokenize sentence\n",
    "    inputs = tokenizer(sentence, return_tensors=\"pt\").to(device)\n",
    "    \n",
    "    # Tokenize target\n",
    "    target_enc = tokenizer.encode(target, return_tensors=\"pt\",\n",
    "                                  add_special_tokens=False).to(device)\n",
    "    \n",
    "    # Get indices of target in input tokens\n",
    "    target_inds = find_sublist_index(\n",
    "        inputs[\"input_ids\"][0].tolist(),\n",
    "        target_enc[0].tolist()\n",
    "    )\n",
    "\n",
    "    # Run model\n",
    "    with torch.no_grad():\n",
    "        output = model(**inputs)\n",
    "        hidden_states = output.hidden_states\n",
    "\n",
    "    # Get layer\n",
    "    selected_layer = hidden_states[layer][0]\n",
    "\n",
    "    #grab just the embeddings for your target word's token(s)\n",
    "    token_embeddings = selected_layer[target_inds[0]:target_inds[1]]\n",
    "\n",
    "    #if a word is represented by >1 tokens, take mean\n",
    "    #across the multiple tokens' embeddings\n",
    "    embedding = torch.mean(token_embeddings, dim=0)\n",
    "    \n",
    "    return embedding"
   ]
  },
  {
   "cell_type": "markdown",
   "id": "f4afeac0",
   "metadata": {},
   "source": [
    "### load your model and tokenizer"
   ]
  },
  {
   "cell_type": "code",
   "execution_count": 3,
   "id": "3179d964",
   "metadata": {},
   "outputs": [],
   "source": [
    "### Models\n",
    "MODELS = [\"dccuchile/bert-base-spanish-wwm-cased\",\n",
    "         \"bert-base-multilingual-cased\",\n",
    "         \"xlm-roberta-base\",\n",
    "         \"dccuchile/albert-tiny-spanish\",\n",
    "          \"dccuchile/albert-base-spanish\",\n",
    "          \"dccuchile/albert-large-spanish\",\n",
    "          \"dccuchile/albert-xlarge-spanish\",\n",
    "          \"dccuchile/albert-xxlarge-spanish\",\n",
    "          \"PlanTL-GOB-ES/roberta-base-bne\", ### TODO\n",
    "         \"dccuchile/distilbert-base-spanish-uncased \"]"
   ]
  },
  {
   "cell_type": "code",
   "execution_count": 4,
   "id": "3e5233c3",
   "metadata": {},
   "outputs": [
    {
     "name": "stderr",
     "output_type": "stream",
     "text": [
      "/Users/seantrott/anaconda3/lib/python3.11/site-packages/torch/_utils.py:831: UserWarning: TypedStorage is deprecated. It will be removed in the future and UntypedStorage will be the only storage class. This should only matter to you if you are using storages directly.  To access UntypedStorage directly, use tensor.untyped_storage() instead of tensor.storage()\n",
      "  return self.fget.__get__(instance, owner)()\n",
      "Some weights of RobertaModel were not initialized from the model checkpoint at PlanTL-GOB-ES/roberta-base-bne and are newly initialized: ['roberta.pooler.dense.bias', 'roberta.pooler.dense.weight']\n",
      "You should probably TRAIN this model on a down-stream task to be able to use it for predictions and inference.\n"
     ]
    }
   ],
   "source": [
    "### Define the url path to BETO\n",
    "\n",
    "mpath = \"dccuchile/bert-base-spanish-wwm-cased\" \n",
    "mpath = \"PlanTL-GOB-ES/roberta-base-bne\"\n",
    "## Use \"bert-base-multilingual-cased\" for multlingual BERT comparison\n",
    "\n",
    "\n",
    "### Decide which device you want the models to run in\n",
    "device = torch.device(\"mps\" if torch.backends.mps.is_available() else \"cpu\")\n",
    "\n",
    "### Load your model & tokenizer\n",
    "\n",
    "# model = transformers.AutoModelForCausalLM.from_pretrained(mpath,output_hidden_states=True)\n",
    "model = transformers.AutoModel.from_pretrained(mpath,output_hidden_states=True)\n",
    "model.to(device) # allocate model to desired device\n",
    "\n",
    "tokenizer = transformers.AutoTokenizer.from_pretrained(mpath)  \n",
    "\n"
   ]
  },
  {
   "cell_type": "code",
   "execution_count": null,
   "id": "07b8f646",
   "metadata": {},
   "outputs": [],
   "source": []
  },
  {
   "cell_type": "markdown",
   "id": "9a346b23",
   "metadata": {},
   "source": [
    "### load the dataframe of sentence pairs"
   ]
  },
  {
   "cell_type": "code",
   "execution_count": 5,
   "id": "680d3436",
   "metadata": {},
   "outputs": [],
   "source": [
    "df = pd.read_csv(\"../data/raw/items/sawc_sentence_pairs.csv\")"
   ]
  },
  {
   "cell_type": "code",
   "execution_count": 6,
   "id": "947e7eea",
   "metadata": {},
   "outputs": [
    {
     "data": {
      "text/plain": [
       "812"
      ]
     },
     "execution_count": 6,
     "metadata": {},
     "output_type": "execute_result"
    }
   ],
   "source": [
    "df.shape[0] # number of sentence pairs"
   ]
  },
  {
   "cell_type": "markdown",
   "id": "f58581c5",
   "metadata": {},
   "source": [
    "### compute cosine distances\n",
    "\n",
    "for each target word within a pair of sentences, for each model layer"
   ]
  },
  {
   "cell_type": "code",
   "execution_count": 7,
   "id": "2e422873",
   "metadata": {},
   "outputs": [
    {
     "data": {
      "text/plain": [
       "12"
      ]
     },
     "execution_count": 7,
     "metadata": {},
     "output_type": "execute_result"
    }
   ],
   "source": [
    "### Getting number of hidden layers \n",
    "### TODO: Double-check for all configurations\n",
    "n_layers = model.config.num_hidden_layers\n",
    "n_layers"
   ]
  },
  {
   "cell_type": "code",
   "execution_count": 9,
   "id": "38daface",
   "metadata": {},
   "outputs": [
    {
     "data": {
      "text/plain": [
       "'\\nif mpath == \"xlm-roberta-base\":\\n    n_layers = len(model.base_model.encoder.layer)\\nelif mpath ==\"dccuchile/distilbert-base-spanish-uncased\":\\n    n_layers = len(model.base_model.transformer.layer)\\nelif mpath == \"dccuchile/albert-tiny-spanish\":\\n    n_layers = model.config.num_hidden_layers\\nelse:\\n    n_layers = len(model.bert.encoder.layer)\\n'"
      ]
     },
     "execution_count": 9,
     "metadata": {},
     "output_type": "execute_result"
    }
   ],
   "source": [
    "### Get the number of layers directly from the model specifications\n",
    "\"\"\"\n",
    "if mpath == \"xlm-roberta-base\":\n",
    "    n_layers = len(model.base_model.encoder.layer)\n",
    "elif mpath ==\"dccuchile/distilbert-base-spanish-uncased\":\n",
    "    n_layers = len(model.base_model.transformer.layer)\n",
    "elif mpath == \"dccuchile/albert-tiny-spanish\":\n",
    "    n_layers = model.config.num_hidden_layers\n",
    "else:\n",
    "    n_layers = len(model.bert.encoder.layer)\n",
    "\"\"\""
   ]
  },
  {
   "cell_type": "code",
   "execution_count": 14,
   "id": "4f53150d",
   "metadata": {},
   "outputs": [
    {
     "data": {
      "text/plain": [
       "{'input_ids': tensor([[   0,  454, 2165,    2]], device='mps:0'), 'attention_mask': tensor([[1, 1, 1, 1]], device='mps:0')}"
      ]
     },
     "execution_count": 14,
     "metadata": {},
     "output_type": "execute_result"
    }
   ],
   "source": [
    "# Tokenize sentence\n",
    "inputs = tokenizer(\"El hombre\", return_tensors=\"pt\").to(device)\n",
    "inputs"
   ]
  },
  {
   "cell_type": "code",
   "execution_count": 17,
   "id": "83e4bcfb",
   "metadata": {},
   "outputs": [
    {
     "data": {
      "text/plain": [
       "tensor([[28507]], device='mps:0')"
      ]
     },
     "execution_count": 17,
     "metadata": {},
     "output_type": "execute_result"
    }
   ],
   "source": [
    "\n",
    "# Tokenize target\n",
    "target_enc = tokenizer.encode(\"hombre\", return_tensors=\"pt\",\n",
    "                              add_special_tokens=False).to(device)\n",
    "target_enc"
   ]
  },
  {
   "cell_type": "code",
   "execution_count": 18,
   "id": "ff9f765b",
   "metadata": {},
   "outputs": [],
   "source": [
    "\n",
    "# Get indices of target in input tokens\n",
    "target_inds = find_sublist_index(\n",
    "    inputs[\"input_ids\"][0].tolist(),\n",
    "    target_enc[0].tolist()\n",
    ")\n",
    "target_inds"
   ]
  },
  {
   "cell_type": "code",
   "execution_count": null,
   "id": "57d1e089",
   "metadata": {},
   "outputs": [],
   "source": []
  },
  {
   "cell_type": "code",
   "execution_count": null,
   "id": "3f9323be",
   "metadata": {},
   "outputs": [],
   "source": []
  },
  {
   "cell_type": "code",
   "execution_count": 10,
   "id": "c476ca16",
   "metadata": {},
   "outputs": [
    {
     "data": {
      "application/vnd.jupyter.widget-view+json": {
       "model_id": "0730ab6a289c4bc3b9169822b49878d7",
       "version_major": 2,
       "version_minor": 0
      },
      "text/plain": [
       "  0%|          | 0/812 [00:00<?, ?it/s]"
      ]
     },
     "metadata": {},
     "output_type": "display_data"
    },
    {
     "name": "stderr",
     "output_type": "stream",
     "text": [
      "/Users/seantrott/anaconda3/lib/python3.11/site-packages/transformers/models/roberta/modeling_roberta.py:1561: UserWarning: cumsum_out_mps supported by MPS on MacOS 13+, please upgrade (Triggered internally at /Users/runner/work/_temp/anaconda/conda-bld/pytorch_1699448804225/work/aten/src/ATen/native/mps/operations/UnaryOps.mm:406.)\n",
      "  incremental_indices = (torch.cumsum(mask, dim=1).type_as(mask) + past_key_values_length) * mask\n"
     ]
    },
    {
     "ename": "TypeError",
     "evalue": "'NoneType' object is not subscriptable",
     "output_type": "error",
     "traceback": [
      "\u001b[0;31m---------------------------------------------------------------------------\u001b[0m",
      "\u001b[0;31mTypeError\u001b[0m                                 Traceback (most recent call last)",
      "Cell \u001b[0;32mIn[10], line 7\u001b[0m\n\u001b[1;32m      3\u001b[0m \u001b[38;5;28;01mfor\u001b[39;00m layer \u001b[38;5;129;01min\u001b[39;00m \u001b[38;5;28mrange\u001b[39m(n_layers\u001b[38;5;241m+\u001b[39m\u001b[38;5;241m1\u001b[39m): \u001b[38;5;66;03m# `range` is non-inclusive for the last value of interval\u001b[39;00m\n\u001b[1;32m      4\u001b[0m     \u001b[38;5;28;01mfor\u001b[39;00m (ix, row) \u001b[38;5;129;01min\u001b[39;00m tqdm(df\u001b[38;5;241m.\u001b[39miterrows(), total\u001b[38;5;241m=\u001b[39mdf\u001b[38;5;241m.\u001b[39mshape[\u001b[38;5;241m0\u001b[39m]):\n\u001b[1;32m      5\u001b[0m \n\u001b[1;32m      6\u001b[0m         \u001b[38;5;66;03m### Get embeddings for S1 and S2\u001b[39;00m\n\u001b[0;32m----> 7\u001b[0m         s1 \u001b[38;5;241m=\u001b[39m get_embedding(model, tokenizer, row[\u001b[38;5;124m'\u001b[39m\u001b[38;5;124mSentence_1\u001b[39m\u001b[38;5;124m'\u001b[39m], row[\u001b[38;5;124m'\u001b[39m\u001b[38;5;124mWord\u001b[39m\u001b[38;5;124m'\u001b[39m],layer, device)\n\u001b[1;32m      8\u001b[0m         s2 \u001b[38;5;241m=\u001b[39m get_embedding(model, tokenizer, row[\u001b[38;5;124m'\u001b[39m\u001b[38;5;124mSentence_2\u001b[39m\u001b[38;5;124m'\u001b[39m], row[\u001b[38;5;124m'\u001b[39m\u001b[38;5;124mWord\u001b[39m\u001b[38;5;124m'\u001b[39m],layer, device)\n\u001b[1;32m     10\u001b[0m         \u001b[38;5;66;03m### Now calculate cosine distance \u001b[39;00m\n\u001b[1;32m     11\u001b[0m         \u001b[38;5;66;03m#.  note, tensors need to be copied to cpu to make this run\u001b[39;00m\n\u001b[1;32m     12\u001b[0m         \u001b[38;5;66;03m#.  still faster to do this copy than to just have everything\u001b[39;00m\n\u001b[1;32m     13\u001b[0m         \u001b[38;5;66;03m#.  running on the cpu\u001b[39;00m\n",
      "Cell \u001b[0;32mIn[2], line 42\u001b[0m, in \u001b[0;36mget_embedding\u001b[0;34m(model, tokenizer, sentence, target, layer, device)\u001b[0m\n\u001b[1;32m     39\u001b[0m selected_layer \u001b[38;5;241m=\u001b[39m hidden_states[layer][\u001b[38;5;241m0\u001b[39m]\n\u001b[1;32m     41\u001b[0m \u001b[38;5;66;03m#grab just the embeddings for your target word's token(s)\u001b[39;00m\n\u001b[0;32m---> 42\u001b[0m token_embeddings \u001b[38;5;241m=\u001b[39m selected_layer[target_inds[\u001b[38;5;241m0\u001b[39m]:target_inds[\u001b[38;5;241m1\u001b[39m]]\n\u001b[1;32m     44\u001b[0m \u001b[38;5;66;03m#if a word is represented by >1 tokens, take mean\u001b[39;00m\n\u001b[1;32m     45\u001b[0m \u001b[38;5;66;03m#across the multiple tokens' embeddings\u001b[39;00m\n\u001b[1;32m     46\u001b[0m embedding \u001b[38;5;241m=\u001b[39m torch\u001b[38;5;241m.\u001b[39mmean(token_embeddings, dim\u001b[38;5;241m=\u001b[39m\u001b[38;5;241m0\u001b[39m)\n",
      "\u001b[0;31mTypeError\u001b[0m: 'NoneType' object is not subscriptable"
     ]
    }
   ],
   "source": [
    "results = []\n",
    "\n",
    "for layer in range(n_layers+1): # `range` is non-inclusive for the last value of interval\n",
    "    for (ix, row) in tqdm(df.iterrows(), total=df.shape[0]):\n",
    "\n",
    "        ### Get embeddings for S1 and S2\n",
    "        s1 = get_embedding(model, tokenizer, row['Sentence_1'], row['Word'],layer, device)\n",
    "        s2 = get_embedding(model, tokenizer, row['Sentence_2'], row['Word'],layer, device)\n",
    "\n",
    "        ### Now calculate cosine distance \n",
    "        #.  note, tensors need to be copied to cpu to make this run\n",
    "        #.  still faster to do this copy than to just have everything\n",
    "        #.  running on the cpu\n",
    "        if device.type == \"mps\":  \n",
    "            model_cosine = cosine(s1.cpu(), s2.cpu())\n",
    "            \n",
    "        else: \n",
    "            model_cosine = cosine(s1, s2)\n",
    "\n",
    "\n",
    "        ### Figure out how many tokens you're\n",
    "        ### comparing across sentences\n",
    "        n_tokens_s1 = len(tokenizer.encode(row['Sentence_1']))\n",
    "        n_tokens_s2 = len(tokenizer.encode(row['Sentence_1']))\n",
    "\n",
    "        ### Add to results dictionary\n",
    "        results.append({\n",
    "            'Sentence_1': row['Sentence_1'],\n",
    "            'Sentence_2': row['Sentence_2'],\n",
    "            'Word': row['Word'],\n",
    "            'Same_sense': row['Same_sense'],\n",
    "            'Distance': model_cosine,\n",
    "            'Layer': layer,\n",
    "            'S1_ntokens': n_tokens_s1,\n",
    "            'S2_ntokens': n_tokens_s2\n",
    "        })\n",
    "        \n",
    "df_results = pd.DataFrame(results)\n",
    "df_results['token_diffs'] = np.abs(df_results['S1_ntokens'].values-df_results['S2_ntokens'].values)\n"
   ]
  },
  {
   "cell_type": "markdown",
   "id": "a8734883",
   "metadata": {},
   "source": [
    "### hurray! save your cosine distances to load in the next notebook"
   ]
  },
  {
   "cell_type": "code",
   "execution_count": 19,
   "id": "d4f4b5d4",
   "metadata": {},
   "outputs": [],
   "source": [
    "### Save your cosine distance results \n",
    "\n",
    "savepath = \"../data/processed/models/\"\n",
    "if not os.path.exists(savepath): \n",
    "    os.mkdir(savepath)\n",
    "    \n",
    "\n",
    "### Replace \"beto\" with name of model\n",
    "df_results.to_csv(os.path.join(savepath,\"albert-xxlarge_sawc_distances.csv\"), index=False)\n",
    "# df_results.to_csv(os.path.join(savepath,\"beto_sawc_distances.csv\"), index=False)"
   ]
  },
  {
   "cell_type": "code",
   "execution_count": null,
   "id": "31fb69fe",
   "metadata": {},
   "outputs": [],
   "source": []
  }
 ],
 "metadata": {
  "kernelspec": {
   "display_name": "Python 3 (ipykernel)",
   "language": "python",
   "name": "python3"
  },
  "language_info": {
   "codemirror_mode": {
    "name": "ipython",
    "version": 3
   },
   "file_extension": ".py",
   "mimetype": "text/x-python",
   "name": "python",
   "nbconvert_exporter": "python",
   "pygments_lexer": "ipython3",
   "version": "3.11.0"
  }
 },
 "nbformat": 4,
 "nbformat_minor": 5
}
